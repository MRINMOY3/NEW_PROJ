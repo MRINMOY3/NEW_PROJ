{
 "cells": [
  {
   "cell_type": "markdown",
   "metadata": {},
   "source": [
    "Optimization\n",
    "\n",
    "    Challenges to a machine learning \n",
    "    \n",
    "    data outlier \n",
    "    \n",
    "    data biasing \n",
    "    \n",
    "    minority class - SMOTE\n",
    "    \n",
    "    Scale \n",
    "    \n",
    "    more data\n",
    "    \n",
    "    new feature embeded\n",
    "    \n",
    "    hyper parameter tuning"
   ]
  },
  {
   "cell_type": "markdown",
   "metadata": {},
   "source": [
    "# SVM \n",
    "\n",
    "    1. decision boundary\n",
    "    2. marign \n",
    "    3. hard & soft margin classifiers\n",
    "    4. Support Vectors\n",
    "    5. Kernel trick\n",
    "    6. Strickly Binary Classifer -> OvO or OvR\n",
    "    7. Explaing Radial Basis Function Kernel"
   ]
  },
  {
   "cell_type": "markdown",
   "metadata": {},
   "source": [
    "kernel \n",
    "\n",
    "        linear kernel\n",
    "    \n",
    "        polynomial kernel\n",
    "        \n",
    "        RBF kernel (Default)"
   ]
  },
  {
   "cell_type": "markdown",
   "metadata": {},
   "source": [
    "![plain](https://miro.medium.com/max/784/1*7pS12cmdNItZoDVJpc5iGw.png)"
   ]
  },
  {
   "cell_type": "code",
   "execution_count": null,
   "metadata": {},
   "outputs": [],
   "source": []
  }
 ],
 "metadata": {
  "kernelspec": {
   "display_name": "Python 3",
   "language": "python",
   "name": "python3"
  },
  "language_info": {
   "codemirror_mode": {
    "name": "ipython",
    "version": 3
   },
   "file_extension": ".py",
   "mimetype": "text/x-python",
   "name": "python",
   "nbconvert_exporter": "python",
   "pygments_lexer": "ipython3",
   "version": "3.8.3"
  }
 },
 "nbformat": 4,
 "nbformat_minor": 4
}
